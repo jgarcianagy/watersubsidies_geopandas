{
 "cells": [
  {
   "cell_type": "code",
   "execution_count": 10,
   "metadata": {},
   "outputs": [
    {
     "ename": "ModuleNotFoundError",
     "evalue": "No module named 'pyproj'",
     "output_type": "error",
     "traceback": [
      "\u001b[1;31m---------------------------------------------------------------------------\u001b[0m",
      "\u001b[1;31mModuleNotFoundError\u001b[0m                       Traceback (most recent call last)",
      "\u001b[1;32m<ipython-input-10-3c738edf1ad7>\u001b[0m in \u001b[0;36m<module>\u001b[1;34m\u001b[0m\n\u001b[0;32m      3\u001b[0m \u001b[1;32mimport\u001b[0m \u001b[0mseaborn\u001b[0m \u001b[1;32mas\u001b[0m \u001b[0msns\u001b[0m\u001b[1;33m\u001b[0m\u001b[1;33m\u001b[0m\u001b[0m\n\u001b[0;32m      4\u001b[0m \u001b[1;32mimport\u001b[0m \u001b[0mgeopandas\u001b[0m \u001b[1;32mas\u001b[0m \u001b[0mgpd\u001b[0m\u001b[1;33m\u001b[0m\u001b[1;33m\u001b[0m\u001b[0m\n\u001b[1;32m----> 5\u001b[1;33m \u001b[1;32mimport\u001b[0m \u001b[0mpyproj\u001b[0m\u001b[1;33m\u001b[0m\u001b[1;33m\u001b[0m\u001b[0m\n\u001b[0m\u001b[0;32m      6\u001b[0m \u001b[1;32mfrom\u001b[0m \u001b[0mpyproj\u001b[0m \u001b[1;32mimport\u001b[0m \u001b[0mProj\u001b[0m\u001b[1;33m,\u001b[0m \u001b[0mtransform\u001b[0m\u001b[1;33m\u001b[0m\u001b[1;33m\u001b[0m\u001b[0m\n\u001b[0;32m      7\u001b[0m \u001b[1;33m\u001b[0m\u001b[0m\n",
      "\u001b[1;31mModuleNotFoundError\u001b[0m: No module named 'pyproj'"
     ]
    }
   ],
   "source": [
    "import pandas as pd\n",
    "import matplotlib.pyplot as plt\n",
    "import seaborn as sns\n",
    "import geopandas as gpd\n",
    "import pyproj\n",
    "from pyproj import Proj, transform\n",
    "\n"
   ]
  },
  {
   "cell_type": "code",
   "execution_count": 3,
   "metadata": {},
   "outputs": [
    {
     "name": "stderr",
     "output_type": "stream",
     "text": [
      "b'Skipping line 2446: expected 42 fields, saw 44\\nSkipping line 6210: expected 42 fields, saw 43\\n'\n",
      "b'Skipping line 19888: expected 42 fields, saw 43\\nSkipping line 26180: expected 42 fields, saw 43\\n'\n",
      "b'Skipping line 34153: expected 42 fields, saw 44\\n'\n",
      "b'Skipping line 52980: expected 42 fields, saw 43\\nSkipping line 53335: expected 42 fields, saw 44\\nSkipping line 53830: expected 42 fields, saw 44\\nSkipping line 54771: expected 42 fields, saw 44\\nSkipping line 55667: expected 42 fields, saw 43\\nSkipping line 55774: expected 42 fields, saw 44\\nSkipping line 56491: expected 42 fields, saw 43\\n'\n",
      "b'Skipping line 66098: expected 42 fields, saw 43\\nSkipping line 68002: expected 42 fields, saw 43\\nSkipping line 68504: expected 42 fields, saw 45\\nSkipping line 69438: expected 42 fields, saw 43\\n'\n",
      "b'Skipping line 83588: expected 42 fields, saw 43\\n'\n",
      "b'Skipping line 101221: expected 42 fields, saw 44\\nSkipping line 102440: expected 42 fields, saw 43\\n'\n",
      "C:\\ProgramData\\Anaconda3\\lib\\site-packages\\IPython\\core\\interactiveshell.py:3146: DtypeWarning: Columns (21,22,23,25,26,27,29,30,32,33) have mixed types.Specify dtype option on import or set low_memory=False.\n",
      "  has_raised = await self.run_ast_nodes(code_ast.body, cell_name,\n"
     ]
    }
   ],
   "source": [
    "#Cargamos la base normalizada y georeferenciada con USIG (explicar la api)\n",
    "data = pd.read_csv('caba_usig.csv', error_bad_lines=False)"
   ]
  },
  {
   "cell_type": "code",
   "execution_count": 4,
   "metadata": {},
   "outputs": [
    {
     "data": {
      "text/plain": [
       "0         POINT(96066.0301716 95686.6825261)\n",
       "2         POINT(96155.4751897 99645.9593906)\n",
       "3         POINT(104220.158915 101731.081661)\n",
       "4          POINT(105148.01366 102641.720146)\n",
       "5         POINT(105302.234066 103754.311111)\n",
       "                         ...                \n",
       "108735    POINT(101573.794012 108471.648951)\n",
       "108736    POINT(98116.5506102 101038.027211)\n",
       "108737    POINT(106043.755617 100664.557422)\n",
       "108738    POINT(101916.535978 106518.995326)\n",
       "108739    POINT(99997.4230959 102398.307443)\n",
       "Name: Geocodificación, Length: 104750, dtype: object"
      ]
     },
     "execution_count": 4,
     "metadata": {},
     "output_type": "execute_result"
    }
   ],
   "source": [
    "#Dropeamos nulos en la columna con la info geográfica\n",
    "data.Geocodificación.dropna(axis=0,how=\"any\",inplace=True)\n",
    "data.dropna(subset=['Geocodificación'], inplace=True)\n",
    "#confirmamos que la columna sea string\n",
    "data.Geocodificación.astype(str)"
   ]
  },
  {
   "cell_type": "code",
   "execution_count": 5,
   "metadata": {},
   "outputs": [
    {
     "data": {
      "text/plain": [
       "0"
      ]
     },
     "execution_count": 5,
     "metadata": {},
     "output_type": "execute_result"
    }
   ],
   "source": [
    "data.Geocodificación.isnull().sum()"
   ]
  },
  {
   "cell_type": "code",
   "execution_count": 6,
   "metadata": {},
   "outputs": [
    {
     "data": {
      "text/plain": [
       "0         POINT(96066.0301716 95686.6825261)\n",
       "2         POINT(96155.4751897 99645.9593906)\n",
       "3         POINT(104220.158915 101731.081661)\n",
       "4          POINT(105148.01366 102641.720146)\n",
       "5         POINT(105302.234066 103754.311111)\n",
       "                         ...                \n",
       "108735    POINT(101573.794012 108471.648951)\n",
       "108736    POINT(98116.5506102 101038.027211)\n",
       "108737    POINT(106043.755617 100664.557422)\n",
       "108738    POINT(101916.535978 106518.995326)\n",
       "108739    POINT(99997.4230959 102398.307443)\n",
       "Name: Geocodificación, Length: 104750, dtype: object"
      ]
     },
     "execution_count": 6,
     "metadata": {},
     "output_type": "execute_result"
    }
   ],
   "source": [
    "data.Geocodificación"
   ]
  },
  {
   "cell_type": "code",
   "execution_count": 7,
   "metadata": {},
   "outputs": [
    {
     "data": {
      "text/plain": [
       "['104503.040008', '101268.480111']"
      ]
     },
     "execution_count": 7,
     "metadata": {},
     "output_type": "execute_result"
    }
   ],
   "source": [
    "#Vemos como splitear la columna para separar lat y long y trabajarlas por separado\n",
    "x = 'POINT(104503.040008 101268.480111)'\n",
    "x1 = x.split(\"(\",1)\n",
    "x2 = x1[1].split(')')\n",
    "x3 = x2[0].split(' ')\n",
    "x3"
   ]
  },
  {
   "cell_type": "code",
   "execution_count": 8,
   "metadata": {},
   "outputs": [
    {
     "ename": "NameError",
     "evalue": "name 'Proj' is not defined",
     "output_type": "error",
     "traceback": [
      "\u001b[1;31m---------------------------------------------------------------------------\u001b[0m",
      "\u001b[1;31mNameError\u001b[0m                                 Traceback (most recent call last)",
      "\u001b[1;32m<ipython-input-8-1720b616f7a4>\u001b[0m in \u001b[0;36m<module>\u001b[1;34m\u001b[0m\n\u001b[0;32m     23\u001b[0m \u001b[1;31m#     return x3[1]\u001b[0m\u001b[1;33m\u001b[0m\u001b[1;33m\u001b[0m\u001b[1;33m\u001b[0m\u001b[0m\n\u001b[0;32m     24\u001b[0m \u001b[1;33m\u001b[0m\u001b[0m\n\u001b[1;32m---> 25\u001b[1;33m \u001b[0mprint\u001b[0m\u001b[1;33m(\u001b[0m\u001b[0mtransfor_lat\u001b[0m\u001b[1;33m(\u001b[0m\u001b[0mx\u001b[0m\u001b[1;33m)\u001b[0m\u001b[1;33m)\u001b[0m\u001b[1;33m\u001b[0m\u001b[1;33m\u001b[0m\u001b[0m\n\u001b[0m\u001b[0;32m     26\u001b[0m \u001b[1;33m\u001b[0m\u001b[0m\n\u001b[0;32m     27\u001b[0m \u001b[1;32mdef\u001b[0m \u001b[0mtransfor_long\u001b[0m\u001b[1;33m(\u001b[0m\u001b[0mx\u001b[0m\u001b[1;33m)\u001b[0m\u001b[1;33m:\u001b[0m\u001b[1;33m\u001b[0m\u001b[1;33m\u001b[0m\u001b[0m\n",
      "\u001b[1;32m<ipython-input-8-1720b616f7a4>\u001b[0m in \u001b[0;36mtransfor_lat\u001b[1;34m(x)\u001b[0m\n\u001b[0;32m     11\u001b[0m     \u001b[0mx2\u001b[0m \u001b[1;33m=\u001b[0m \u001b[0mx1\u001b[0m\u001b[1;33m[\u001b[0m\u001b[1;36m1\u001b[0m\u001b[1;33m]\u001b[0m\u001b[1;33m.\u001b[0m\u001b[0msplit\u001b[0m\u001b[1;33m(\u001b[0m\u001b[1;34m')'\u001b[0m\u001b[1;33m)\u001b[0m\u001b[1;33m\u001b[0m\u001b[1;33m\u001b[0m\u001b[0m\n\u001b[0;32m     12\u001b[0m     \u001b[0mx3\u001b[0m \u001b[1;33m=\u001b[0m \u001b[0mx2\u001b[0m\u001b[1;33m[\u001b[0m\u001b[1;36m0\u001b[0m\u001b[1;33m]\u001b[0m\u001b[1;33m.\u001b[0m\u001b[0msplit\u001b[0m\u001b[1;33m(\u001b[0m\u001b[1;34m' '\u001b[0m\u001b[1;33m)\u001b[0m\u001b[1;33m\u001b[0m\u001b[1;33m\u001b[0m\u001b[0m\n\u001b[1;32m---> 13\u001b[1;33m     \u001b[0minProj\u001b[0m \u001b[1;33m=\u001b[0m \u001b[0mProj\u001b[0m\u001b[1;33m(\u001b[0m\u001b[1;34m'+proj=tmerc +lat_0=-34.629269 +lon_0=-58.4633 +k=0.9999980000000001 +x_0=100000 +y_0=100000 +ellps=intl +units=m +no_defs'\u001b[0m\u001b[1;33m)\u001b[0m\u001b[1;33m\u001b[0m\u001b[1;33m\u001b[0m\u001b[0m\n\u001b[0m\u001b[0;32m     14\u001b[0m     \u001b[0moutProj\u001b[0m \u001b[1;33m=\u001b[0m \u001b[0mProj\u001b[0m\u001b[1;33m(\u001b[0m\u001b[0minit\u001b[0m\u001b[1;33m=\u001b[0m\u001b[1;34m'epsg:4326'\u001b[0m\u001b[1;33m)\u001b[0m\u001b[1;33m\u001b[0m\u001b[1;33m\u001b[0m\u001b[0m\n\u001b[0;32m     15\u001b[0m     \u001b[0mx1\u001b[0m\u001b[1;33m,\u001b[0m \u001b[0my1\u001b[0m \u001b[1;33m=\u001b[0m \u001b[0mx3\u001b[0m\u001b[1;33m[\u001b[0m\u001b[1;36m0\u001b[0m\u001b[1;33m]\u001b[0m\u001b[1;33m,\u001b[0m \u001b[0mx3\u001b[0m\u001b[1;33m[\u001b[0m\u001b[1;36m1\u001b[0m\u001b[1;33m]\u001b[0m\u001b[1;33m\u001b[0m\u001b[1;33m\u001b[0m\u001b[0m\n",
      "\u001b[1;31mNameError\u001b[0m: name 'Proj' is not defined"
     ]
    }
   ],
   "source": [
    "#Armamos las funciones que van a reproyectar lat y long con las herramientas de pyproj\n",
    "#Cargamos las librerias\n",
    "\n",
    "#from pyproj import Proj, transform\n",
    "#import pyproj\n",
    "\n",
    "x = 'POINT(104503.040008 101268.480111)'\n",
    "\n",
    "def transfor_lat(x):\n",
    "    x1 = x.split(\"(\",1)\n",
    "    x2 = x1[1].split(')')\n",
    "    x3 = x2[0].split(' ')\n",
    "    inProj = Proj('+proj=tmerc +lat_0=-34.629269 +lon_0=-58.4633 +k=0.9999980000000001 +x_0=100000 +y_0=100000 +ellps=intl +units=m +no_defs')\n",
    "    outProj = Proj(init='epsg:4326')\n",
    "    x1, y1 = x3[0], x3[1] \n",
    "    x2, y2 = transform(inProj,outProj,x1,y1)\n",
    "    return (y2)\n",
    "\n",
    "# def transfor_column_y(x):\n",
    "#     x1 = x.split(\"(\",1)\n",
    "#     x2 = x1[1].split(')')\n",
    "#     x3 = x2[0].split(' ')\n",
    "#     return x3[1]\n",
    "\n",
    "print(transfor_lat(x))\n",
    "\n",
    "def transfor_long(x):\n",
    "    x1 = x.split(\"(\",1)\n",
    "    x2 = x1[1].split(')')\n",
    "    x3 = x2[0].split(' ')\n",
    "    inProj = Proj('+proj=tmerc +lat_0=-34.629269 +lon_0=-58.4633 +k=0.9999980000000001 +x_0=100000 +y_0=100000 +ellps=intl +units=m +no_defs')\n",
    "    outProj = Proj(init='epsg:4326')\n",
    "    x1, y1 = x3[0], x3[1] \n",
    "    x2, y2 = transform(inProj,outProj,x1,y1)\n",
    "    return (x2)\n",
    "\n",
    "# def transfor_column_y(x):\n",
    "#     x1 = x.split(\"(\",1)\n",
    "#     x2 = x1[1].split(')')\n",
    "#     x3 = x2[0].split(' ')\n",
    "#     return x3[1]\n",
    "\n",
    "print(transfor_long(x))\n"
   ]
  },
  {
   "cell_type": "code",
   "execution_count": 271,
   "metadata": {},
   "outputs": [],
   "source": [
    "#Seleccionamos solo las columnas que nos aportarian info\n",
    "data = data[['Nº de cuenta Contrato',\n",
    "       'CodPostal',\n",
    "       'Titular', 'Q Módulos','Distrito AySA',\n",
    "       'Zonal', 'Sup Cub Exp', 'Sup Scub Exp', 'Porc Ph',\n",
    "       'Cantidad de integrantes del hogar', 'Total de ingresos del hogar',\n",
    "       'Gastos en vivienda', 'Gastos en salud',\n",
    "       'Gastos en gas y electricidad ', 'Gastos en servicios optativos',\n",
    "       'Importe Factura sin TS c/imp',\n",
    "       'Importe Factura con TS c/imp', 'calle_normal',\n",
    "       'Geocodificación']]"
   ]
  },
  {
   "cell_type": "code",
   "execution_count": 269,
   "metadata": {},
   "outputs": [],
   "source": [
    "import warnings\n",
    "warnings.filterwarnings('ignore')"
   ]
  },
  {
   "cell_type": "code",
   "execution_count": 275,
   "metadata": {},
   "outputs": [],
   "source": [
    "#Construimos la columna 'lat' con la latitud reproyectada\n",
    "data['lat'] = data.Geocodificación.apply(lambda x: transfor_lat(x))"
   ]
  },
  {
   "cell_type": "code",
   "execution_count": null,
   "metadata": {},
   "outputs": [],
   "source": [
    "#Construimos la columna 'long' con la longitud reproyectada\n",
    "\n",
    "data['long'] = data.Geocodificación.apply(lambda x: transfor_long(x))\n"
   ]
  },
  {
   "cell_type": "code",
   "execution_count": 276,
   "metadata": {},
   "outputs": [
    {
     "data": {
      "text/plain": [
       "0        -34.668142\n",
       "2        -34.632453\n",
       "3        -34.613656\n",
       "4        -34.605443\n",
       "5        -34.595413\n",
       "            ...    \n",
       "108735   -34.552902\n",
       "108736   -34.619910\n",
       "108737   -34.623261\n",
       "108738   -34.570504\n",
       "108739   -34.607650\n",
       "Name: lat, Length: 104750, dtype: float64"
      ]
     },
     "execution_count": 276,
     "metadata": {},
     "output_type": "execute_result"
    }
   ],
   "source": [
    "#Vemos sin sumo las columnas correctamente\n",
    "# data.lat\n",
    "# data.long"
   ]
  },
  {
   "cell_type": "code",
   "execution_count": 185,
   "metadata": {},
   "outputs": [],
   "source": [
    "#ARMAMOS EL GEODATAFRAME CON LA PROYECCIÓN QUE UTILIZAREMOS\n",
    "gdf = gpd.GeoDataFrame(\n",
    "    datatest, geometry=gpd.points_from_xy(datatest.long, datatest.lat))"
   ]
  },
  {
   "cell_type": "code",
   "execution_count": 200,
   "metadata": {},
   "outputs": [],
   "source": [
    "#Seteamos la proyección\n",
    "gdf = gdf.set_crs(epsg=4326)"
   ]
  },
  {
   "cell_type": "code",
   "execution_count": 1,
   "metadata": {},
   "outputs": [
    {
     "ename": "NameError",
     "evalue": "name 'gdf' is not defined",
     "output_type": "error",
     "traceback": [
      "\u001b[0;31m---------------------------------------------------------------------------\u001b[0m",
      "\u001b[0;31mNameError\u001b[0m                                 Traceback (most recent call last)",
      "\u001b[0;32m<ipython-input-1-54a369523579>\u001b[0m in \u001b[0;36m<module>\u001b[0;34m\u001b[0m\n\u001b[0;32m----> 1\u001b[0;31m \u001b[0mgdf\u001b[0m\u001b[0;34m.\u001b[0m\u001b[0mcrs\u001b[0m\u001b[0;34m\u001b[0m\u001b[0;34m\u001b[0m\u001b[0m\n\u001b[0m",
      "\u001b[0;31mNameError\u001b[0m: name 'gdf' is not defined"
     ]
    }
   ],
   "source": [
    "#Revisamos la proyección\n",
    "gdf.crs"
   ]
  },
  {
   "cell_type": "code",
   "execution_count": 196,
   "metadata": {},
   "outputs": [
    {
     "data": {
      "image/png": "[encoded data removed]",
      "text/plain": [
       "<Figure size 432x288 with 1 Axes>"
      ]
     },
     "metadata": {
      "needs_background": "light"
     },
     "output_type": "display_data"
    }
   ],
   "source": [
    "#Ploteamos una muestra test para ver si trabaja\n",
    "gdftest = gdf.sample(50)\n",
    "\n",
    "fig, ax = plt.subplots()\n",
    "\n",
    "ax.set_aspect('equal')\n",
    "\n",
    "gdftest.plot(ax=ax,column = 'Q Módulos', legend = False, cmap='OrRd', scheme='quantiles')\n",
    "\n",
    "plt.show();"
   ]
  },
  {
   "cell_type": "code",
   "execution_count": 156,
   "metadata": {},
   "outputs": [],
   "source": [
    "#DISTINTAS FORMAS DE CAMBIAR LA PROYECCION\n",
    "\n",
    "\n",
    "# https://gis.stackexchange.com/questions/78838/converting-projected-coordinates-to-lat-lon-using-python\n",
    "#https://pyproj4.github.io/pyproj/stable/examples.html#using-crs\n",
    "#https://spatialreference.org/ref/sr-org/7433/proj4/ LAS REFERENCIAS GEO USADAS POR USIG Proyección Gauss-Kruger Bs. As. (GKBA) para la ciudad de Buenos Aires, Argentina.\n",
    "\n",
    "# from pyproj import Proj, transform\n",
    "# import pyproj\n",
    "\n",
    "# inProj = Proj('+proj=tmerc +lat_0=-34.629269 +lon_0=-58.4633 +k=0.9999980000000001 +x_0=100000 +y_0=100000 +ellps=intl +units=m +no_defs')\n",
    "# outProj = Proj(init='epsg:4326')\n",
    "# x1,y1 = 105170.484872 , 106006.896278\n",
    "# x2,y2 = transform(inProj,outProj,x1,y1)\n",
    "# print(y2,x2)"
   ]
  },
  {
   "cell_type": "code",
   "execution_count": 51,
   "metadata": {},
   "outputs": [],
   "source": [
    "# import pyproj\n",
    "# print(pyproj.__version__)  # 2.4.1\n",
    "# print(pyproj.proj_version_str) # 6.2.1\n",
    "\n",
    "# proj = pyproj.Transformer.from_crs(7433, 4326, always_xy=True)\n",
    "\n",
    "# x1, y1 = (96066.0301716, 95686.6825261)\n",
    "# x2, y2 = proj.transform(x1, y1)\n",
    "# print((x2, y2)) "
   ]
  },
  {
   "cell_type": "code",
   "execution_count": 157,
   "metadata": {},
   "outputs": [],
   "source": [
    "# import pyproj\n",
    "# p = pyproj.Proj(\"+proj=tmerc +lat_0=-34.629269 +lon_0=-58.4633 +k=0.9999980000000001 +x_0=100000 +y_0=100000 +ellps=intl +units=m +no_defs\")\n",
    "# x, y = (96066.0301716, 95686.6825261)\n",
    "# lon, lat = p(x, y, inverse=True)\n",
    "# print(lat,lon)"
   ]
  },
  {
   "cell_type": "code",
   "execution_count": 158,
   "metadata": {},
   "outputs": [],
   "source": [
    "# import pyproj\n",
    "# p = pyproj.Proj(\"+proj=longlat +ellps=WGS84 +datum=WGS84 +no_defs\")\n",
    "# lon, lat = p(lon, lat, inverse=True)\n",
    "# print(lat,lon)"
   ]
  }
 ],
 "metadata": {
  "kernelspec": {
   "display_name": "Python 3",
   "language": "python",
   "name": "python3"
  },
  "language_info": {
   "codemirror_mode": {
    "name": "ipython",
    "version": 3
   },
   "file_extension": ".py",
   "mimetype": "text/x-python",
   "name": "python",
   "nbconvert_exporter": "python",
   "pygments_lexer": "ipython3",
   "version": "3.8.5"
  }
 },
 "nbformat": 4,
 "nbformat_minor": 4
}
